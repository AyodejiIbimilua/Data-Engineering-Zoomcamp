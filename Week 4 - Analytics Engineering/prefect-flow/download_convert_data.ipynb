{
 "cells": [
  {
   "cell_type": "code",
   "execution_count": 1,
   "id": "24b08e97",
   "metadata": {},
   "outputs": [],
   "source": [
    "# This code manually converts the csv files into parquet files after it has been manually downloaded and uploads to redshift\n",
    "import numpy as np\n",
    "import pandas as pd\n",
    "import os"
   ]
  },
  {
   "cell_type": "code",
   "execution_count": null,
   "id": "9a2ef368",
   "metadata": {},
   "outputs": [],
   "source": [
    "all_files = os.listdir(\"/Users/guestt/Desktop/Data Engineering/DE-ZC-DATA/Green Data\")    \n",
    "green_csv_files = list(filter(lambda f: f.endswith('.csv'), all_files))\n",
    "green_csv_files = [\"/Users/guestt/Desktop/Data Engineering/DE-ZC-DATA/Green Data/\" + f for f in green_csv_files]"
   ]
  },
  {
   "cell_type": "code",
   "execution_count": null,
   "id": "e35314b7",
   "metadata": {},
   "outputs": [],
   "source": [
    "all_files = os.listdir(\"/Users/guestt/Desktop/Data Engineering/DE-ZC-DATA/Yellow Data\")    \n",
    "yellow_csv_files = list(filter(lambda f: f.endswith('.csv'), all_files))\n",
    "yellow_csv_files = [\"/Users/guestt/Desktop/Data Engineering/DE-ZC-DATA/Yellow Data/\" + f for f in yellow_csv_files]"
   ]
  },
  {
   "cell_type": "code",
   "execution_count": null,
   "id": "71e73bc8",
   "metadata": {},
   "outputs": [],
   "source": [
    "def parse_data(csv_list):\n",
    "    df_list = []\n",
    "    for ls in csv_list:\n",
    "        df = pd.read_csv(ls)\n",
    "        df_list.append(df)\n",
    "        \n",
    "    df = pd.concat(df_list)\n",
    "    \n",
    "    if \"tpep_pickup_datetime\" in df.columns:\n",
    "        df[\"tpep_pickup_datetime\"] = pd.to_datetime(df[\"tpep_pickup_datetime\"])\n",
    "        df[\"tpep_dropoff_datetime\"] = pd.to_datetime(df[\"tpep_dropoff_datetime\"])\n",
    "\n",
    "    if \"lpep_pickup_datetime\" in df.columns:\n",
    "        df[\"lpep_pickup_datetime\"] = pd.to_datetime(df[\"lpep_pickup_datetime\"])\n",
    "        df[\"lpep_dropoff_datetime\"] = pd.to_datetime(df[\"lpep_dropoff_datetime\"])\n",
    "        \n",
    "    df = df.reset_index(drop=True)\n",
    "    \n",
    "    return df"
   ]
  },
  {
   "cell_type": "code",
   "execution_count": null,
   "id": "87c80e44",
   "metadata": {},
   "outputs": [],
   "source": [
    "green_df = parse_data(green_csv_files)"
   ]
  },
  {
   "cell_type": "code",
   "execution_count": null,
   "id": "7470c1df",
   "metadata": {},
   "outputs": [],
   "source": [
    "main_df = pd.read_csv(\"/Users/guestt/Desktop/Data Engineering/DE-ZC-DATA/Yellow Data/yellow_tripdata_2019-04.csv\")"
   ]
  },
  {
   "cell_type": "code",
   "execution_count": null,
   "id": "dacf4e31",
   "metadata": {},
   "outputs": [],
   "source": [
    "def parse_data(csv_list):\n",
    "    \n",
    "    for ls in csv_list:\n",
    "        df = pd.read_csv(ls)\n",
    "        \n",
    "        if \"tpep_pickup_datetime\" in df.columns:\n",
    "            df[\"tpep_pickup_datetime\"] = pd.to_datetime(df[\"tpep_pickup_datetime\"])\n",
    "            df[\"tpep_dropoff_datetime\"] = pd.to_datetime(df[\"tpep_dropoff_datetime\"])\n",
    "            \n",
    "            for x in df.columns:\n",
    "                if main_df[x].dtypes.name == \"int64\":\n",
    "                    df[x]=df[x].astype(\"Int64\")\n",
    "                else:\n",
    "                    df[x]=df[x].astype(main_df[x].dtypes.name)\n",
    "\n",
    "        if \"lpep_pickup_datetime\" in df.columns:\n",
    "            df[\"lpep_pickup_datetime\"] = pd.to_datetime(df[\"lpep_pickup_datetime\"])\n",
    "            df[\"lpep_dropoff_datetime\"] = pd.to_datetime(df[\"lpep_dropoff_datetime\"])\n",
    "\n",
    "        df = df.reset_index(drop=True)\n",
    "        path = \"/Users/guestt/Desktop/Data Engineering/DE-ZC-DATA/Yellow Parquet/\" + ls.split(\"/\")[-1].replace(\".csv\", \".parquet\")\n",
    "\n",
    "        df.to_parquet(path, compression=\"gzip\")"
   ]
  },
  {
   "cell_type": "code",
   "execution_count": null,
   "id": "1537e173",
   "metadata": {},
   "outputs": [],
   "source": [
    "parse_data(yellow_csv_files)"
   ]
  },
  {
   "attachments": {},
   "cell_type": "markdown",
   "id": "cf5f7814",
   "metadata": {},
   "source": [
    "#### Create Schema to house tables  \n",
    "create schema trips_data_all  \n",
    "\n",
    "#### SQL Code to load data into redshift schema from s3  \n",
    "\n",
    "copy  nytaxi.trips_data_all.yellow_trip_data  \n",
    "from 's3://zoom-s3-ayo/data/yellow/'  \n",
    "access_key_id ACCESS_KEY  \n",
    "secret_access_key SECRET_KEY  \n",
    "FORMAT AS PARQUET;  \n",
    "\n",
    "\n",
    "copy  nytaxi.trips_data_all.green_trip_data  \n",
    "from 's3://zoom-s3-ayo/data/green/'  \n",
    "access_key_id ACCESS_KEY  \n",
    "secret_access_key SECRET_KEY  \n",
    "FORMAT AS PARQUET;  "
   ]
  }
 ],
 "metadata": {
  "kernelspec": {
   "display_name": "dash-env",
   "language": "python",
   "name": "python3"
  },
  "language_info": {
   "codemirror_mode": {
    "name": "ipython",
    "version": 3
   },
   "file_extension": ".py",
   "mimetype": "text/x-python",
   "name": "python",
   "nbconvert_exporter": "python",
   "pygments_lexer": "ipython3",
   "version": "3.10.8"
  },
  "vscode": {
   "interpreter": {
    "hash": "68d0cfad5c3c4e42ff2e94c040a25319ebe5c5ebbaebba0490c0c972500bbfdd"
   }
  }
 },
 "nbformat": 4,
 "nbformat_minor": 5
}
